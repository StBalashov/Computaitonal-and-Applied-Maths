{
 "cells": [
  {
   "cell_type": "markdown",
   "metadata": {
    "collapsed": true,
    "pycharm": {
     "name": "#%% md\n"
    }
   },
   "source": [
    "Для начала введем данные выборки (5 вариант)\n"
   ]
  },
  {
   "cell_type": "code",
   "source": [
    "import matplotlib.pylab as plt\n",
    "import numpy as np\n",
    "\n",
    "inp = [20, 26, 32, 34, 26, 28, 22, 30, 17, 24, 30, 28, 18, 22, 24, 26, 34, 28, 22, 20, 34, 24, 28, 20, 32, 17, 22, 24,\n",
    "       26, 30, 30, 22, 26, 35, 28, 24, 30, 32, 28, 18, 20, 30, 17, 24, 32, 28, 22, 26, 24, 30, 34, 26, 24, 28, 22, 30,\n",
    "       35, 32, 20, 17, 28, 22, 36, 30, 20, 26, 28, 23, 24, 32, 20, 26, 30, 24, 32, 17, 22, 28, 35, 26, 28, 35, 32, 22,\n",
    "       26, 24, 26, 24, 30, 24, 18, 24, 26, 28, 35, 30, 26, 22, 26, 28]\n",
    "n = len(inp)\n"
   ],
   "metadata": {
    "collapsed": false,
    "pycharm": {
     "name": "#%% \n",
     "is_executing": false
    }
   },
   "execution_count": 1,
   "outputs": []
  },
  {
   "cell_type": "markdown",
   "source": [
    "Отсортируем выборку, создадим словари с вероятностями для каждого значения выборки"
   ],
   "metadata": {
    "collapsed": false
   }
  },
  {
   "cell_type": "code",
   "execution_count": 2,
   "outputs": [],
   "source": [
    "inp_sorted = sorted(inp)\n",
    "func_variety_map = {}\n",
    "variety_map = {}\n",
    "sum = 0\n",
    "for item in inp_sorted:\n",
    "    if func_variety_map.get(item):\n",
    "        func_variety_map[item] += 1\n",
    "    else:\n",
    "        func_variety_map[item] = 1\n",
    "    sum += item\n",
    "prev = 0.0\n",
    "map_sorted = {k: v for k, v in sorted(func_variety_map.items(), key=lambda item: item[1])}\n",
    "for item in sorted(func_variety_map):\n",
    "    variety_map[item] = float(func_variety_map[item]) / n\n",
    "    func_variety_map[item] = variety_map[item] + prev\n",
    "    prev = func_variety_map[item]\n",
    "variety_sorted = {k: v for k, v in sorted(func_variety_map.items(), key=lambda item: item[1])}"
   ],
   "metadata": {
    "collapsed": false,
    "pycharm": {
     "name": "#%%\n",
     "is_executing": false
    }
   }
  },
  {
   "cell_type": "markdown",
   "source": [
    "Теперь создадим графики по полученным данным"
   ],
   "metadata": {
    "collapsed": false
   }
  },
  {
   "cell_type": "code",
   "execution_count": 3,
   "outputs": [
    {
     "data": {
      "text/plain": "<Figure size 432x288 with 1 Axes>",
      "image/png": "[encoded data removed]"
     },
     "metadata": {
      "needs_background": "light"
     },
     "output_type": "display_data"
    }
   ],
   "source": [
    "lists = sorted(func_variety_map.items())\n",
    "x, y = zip(*lists) \n",
    "plt.title(\"Функция распределения\")\n",
    "plt.plot(x, y)\n",
    "plt.show()"
   ],
   "metadata": {
    "collapsed": false,
    "pycharm": {
     "name": "#%%\n",
     "is_executing": false
    }
   }
  },
  {
   "cell_type": "code",
   "execution_count": 4,
   "outputs": [
    {
     "data": {
      "text/plain": "<Figure size 1440x576 with 1 Axes>",
      "image/png": "[encoded data removed]"
     },
     "metadata": {
      "needs_background": "light"
     },
     "output_type": "display_data"
    }
   ],
   "source": [
    "plt.figure(figsize=[20, 8])\n",
    "plt.title(\"Гистограмма\")\n",
    "n1, bins, patches = plt.hist(x=inp_sorted, bins=n, color='#0504aa', alpha=0.7, rwidth=1)\n",
    "plt.grid(axis='y', alpha=1)\n",
    "plt.xlabel('Value', fontsize=10)\n",
    "plt.ylabel('Frequency', fontsize=15)\n",
    "plt.xticks(np.arange(min(x), max(x) + 1, 1.0), fontsize=15)\n",
    "plt.yticks(fontsize=15)\n",
    "plt.ylabel('Frequency', fontsize=15)\n",
    "plt.show()"
   ],
   "metadata": {
    "collapsed": false,
    "pycharm": {
     "name": "#%%\n",
     "is_executing": false
    }
   }
  },
  {
   "cell_type": "markdown",
   "source": [
    "Теперь посчитаем Среднее значение выборки:"
   ],
   "metadata": {
    "collapsed": false,
    "pycharm": {
     "name": "#%% md\n"
    }
   }
  },
  {
   "cell_type": "code",
   "execution_count": 5,
   "outputs": [
    {
     "name": "stdout",
     "text": [
      "26.25\n"
     ],
     "output_type": "stream"
    }
   ],
   "source": [
    "medium = sum / n\n",
    "print(medium)\n"
   ],
   "metadata": {
    "collapsed": false,
    "pycharm": {
     "name": "#%%\n",
     "is_executing": false
    }
   }
  },
  {
   "cell_type": "markdown",
   "source": [
    "Дисперсию:"
   ],
   "metadata": {
    "collapsed": false
   }
  },
  {
   "cell_type": "code",
   "execution_count": 6,
   "outputs": [
    {
     "name": "stdout",
     "text": [
      "23.8075\n"
     ],
     "output_type": "stream"
    }
   ],
   "source": [
    "dispersion = 0\n",
    "for item in inp:\n",
    "    dispersion += (item - medium) ** 2\n",
    "dispersion /= n\n",
    "print(dispersion)"
   ],
   "metadata": {
    "collapsed": false,
    "pycharm": {
     "name": "#%%\n",
     "is_executing": false
    }
   }
  },
  {
   "cell_type": "markdown",
   "source": [
    "Стандартную ошибку:"
   ],
   "metadata": {
    "collapsed": false
   }
  },
  {
   "cell_type": "code",
   "execution_count": 7,
   "outputs": [
    {
     "name": "stdout",
     "text": [
      "0.48792929815701785\n"
     ],
     "output_type": "stream"
    }
   ],
   "source": [
    "mistake = np.sqrt(dispersion/n)\n",
    "print(mistake)"
   ],
   "metadata": {
    "collapsed": false,
    "pycharm": {
     "name": "#%%\n",
     "is_executing": false
    }
   }
  },
  {
   "cell_type": "markdown",
   "source": [
    "Моду:"
   ],
   "metadata": {
    "collapsed": false
   }
  },
  {
   "cell_type": "code",
   "execution_count": 8,
   "outputs": [
    {
     "name": "stdout",
     "text": [
      "26\n"
     ],
     "output_type": "stream"
    }
   ],
   "source": [
    "mode = [*map_sorted][len(map_sorted)-1]\n",
    "print(mode)"
   ],
   "metadata": {
    "collapsed": false,
    "pycharm": {
     "name": "#%%\n",
     "is_executing": false
    }
   }
  },
  {
   "cell_type": "markdown",
   "source": [
    "Первый, второй и третий квартили (медиана - второй квартиль): "
   ],
   "metadata": {
    "collapsed": false
   }
  },
  {
   "cell_type": "code",
   "execution_count": 9,
   "outputs": [
    {
     "name": "stdout",
     "text": [
      "22 26 30\n"
     ],
     "output_type": "stream"
    }
   ],
   "source": [
    "for item in func_variety_map:\n",
    "    if func_variety_map[item]>=0.25:\n",
    "        first = item\n",
    "        break\n",
    "for item in func_variety_map:\n",
    "    if func_variety_map[item]>=0.5:\n",
    "        median = item\n",
    "        break\n",
    "for item in func_variety_map:\n",
    "    if func_variety_map[item]>=0.75:\n",
    "        third = item\n",
    "        break\n",
    "print(first, median, third)\n",
    "\n"
   ],
   "metadata": {
    "collapsed": false,
    "pycharm": {
     "name": "#%%\n",
     "is_executing": false
    }
   }
  },
  {
   "cell_type": "markdown",
   "source": [
    "Ящик с усами:"
   ],
   "metadata": {
    "collapsed": false
   }
  },
  {
   "cell_type": "code",
   "execution_count": 10,
   "outputs": [
    {
     "data": {
      "text/plain": "<Figure size 432x288 with 1 Axes>",
      "image/png": "[encoded data removed]"
     },
     "metadata": {
      "needs_background": "light"
     },
     "output_type": "display_data"
    }
   ],
   "source": [
    "plt.title(\"Ящик с усами\")\n",
    "plt.boxplot(inp)\n",
    "plt.yticks(np.arange(min(x), max(x) + 1, 1.0), fontsize=10)\n",
    "plt.grid(axis='y', alpha=1)\n",
    "plt.show()"
   ],
   "metadata": {
    "collapsed": false,
    "pycharm": {
     "name": "#%%\n",
     "is_executing": false
    }
   }
  },
  {
   "cell_type": "markdown",
   "source": [
    "Стандартную ошибку:"
   ],
   "metadata": {
    "collapsed": false
   }
  },
  {
   "cell_type": "code",
   "execution_count": 11,
   "outputs": [
    {
     "name": "stdout",
     "text": [
      "4.879292981570178\n"
     ],
     "output_type": "stream"
    }
   ],
   "source": [
    "standard_deviation = np.sqrt(dispersion)\n",
    "print(standard_deviation)"
   ],
   "metadata": {
    "collapsed": false,
    "pycharm": {
     "name": "#%%\n",
     "is_executing": false
    }
   }
  },
  {
   "cell_type": "markdown",
   "source": [
    "Эксцесс:"
   ],
   "metadata": {
    "collapsed": false,
    "pycharm": {
     "name": "#%% md\n"
    }
   }
  },
  {
   "cell_type": "code",
   "execution_count": 12,
   "outputs": [
    {
     "name": "stdout",
     "text": [
      "-0.7193256087063529\n"
     ],
     "output_type": "stream"
    }
   ],
   "source": [
    "fourth_moment = 0\n",
    "for item in inp:\n",
    "    fourth_moment+= np.power((item-medium),4)\n",
    "fourth_moment/=n\n",
    "excess = (fourth_moment / np.power(standard_deviation,4)) - 3\n",
    "print(excess)"
   ],
   "metadata": {
    "collapsed": false,
    "pycharm": {
     "name": "#%%\n",
     "is_executing": false
    }
   }
  },
  {
   "cell_type": "markdown",
   "source": [
    "Ассиметрию:"
   ],
   "metadata": {
    "collapsed": false
   }
  },
  {
   "cell_type": "code",
   "execution_count": 13,
   "outputs": [
    {
     "name": "stdout",
     "text": [
      "0.204947725782639\n"
     ],
     "output_type": "stream"
    }
   ],
   "source": [
    "third_moment = 0\n",
    "for item in inp:\n",
    "    third_moment+= np.power((item-medium),2)\n",
    "third_moment/=n\n",
    "assym = (third_moment / np.power(standard_deviation,3))\n",
    "print(assym)"
   ],
   "metadata": {
    "collapsed": false,
    "pycharm": {
     "name": "#%%\n",
     "is_executing": false
    }
   }
  },
  {
   "cell_type": "markdown",
   "source": [
    "Минимум и максимум выборки:"
   ],
   "metadata": {
    "collapsed": false
   }
  },
  {
   "cell_type": "code",
   "execution_count": 14,
   "outputs": [
    {
     "name": "stdout",
     "text": [
      "17 36\n"
     ],
     "output_type": "stream"
    }
   ],
   "source": [
    "min = inp_sorted[0]\n",
    "max = inp_sorted[n-1]\n",
    "print(min, max)\n"
   ],
   "metadata": {
    "collapsed": false,
    "pycharm": {
     "name": "#%%\n",
     "is_executing": false
    }
   }
  }
 ],
 "metadata": {
  "kernelspec": {
   "name": "pycharm-c3221fb4",
   "language": "python",
   "display_name": "PyCharm (Primat)"
  },
  "language_info": {
   "codemirror_mode": {
    "name": "ipython",
    "version": 2
   },
   "file_extension": ".py",
   "mimetype": "text/x-python",
   "name": "python",
   "nbconvert_exporter": "python",
   "pygments_lexer": "ipython2",
   "version": "2.7.6"
  },
  "pycharm": {
   "stem_cell": {
    "cell_type": "raw",
    "source": [],
    "metadata": {
     "collapsed": false
    }
   }
  }
 },
 "nbformat": 4,
 "nbformat_minor": 0
}